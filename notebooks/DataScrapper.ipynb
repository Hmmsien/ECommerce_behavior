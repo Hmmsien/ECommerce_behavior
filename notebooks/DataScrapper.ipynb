{
 "cells": [
  {
   "cell_type": "markdown",
   "metadata": {},
   "source": [
    "## Data Scrapper.\n",
    "\n",
    "The idea of this project is to have something that is able to:\n",
    "    \n",
    "1. Given an input of parameters e.g. category_code, brand (electronics, smartphone, xiaomi)\n",
    "2. be able to fetch images (the first one) on google images\n",
    "3. And post them to x database."
   ]
  },
  {
   "cell_type": "code",
   "execution_count": 11,
   "metadata": {},
   "outputs": [],
   "source": [
    "list_search = [\"electronics, smartphone, xiaomi\"]"
   ]
  },
  {
   "cell_type": "code",
   "execution_count": 28,
   "metadata": {},
   "outputs": [],
   "source": [
    "from bs4 import BeautifulSoup\n",
    "from PIL import Image\n",
    "import requests\n",
    "from io import BytesIO\n",
    "import IPython.display as Disp"
   ]
  },
  {
   "cell_type": "code",
   "execution_count": 29,
   "metadata": {},
   "outputs": [],
   "source": [
    "\n",
    "def get_google_img(query):\n",
    "    \"\"\"\n",
    "    gets a link to the first google image search result\n",
    "    :param query: search query string\n",
    "    :result: url string to first result\n",
    "    \"\"\"\n",
    "    url = 'https://www.google.com/search?hl=jp&q=' + query + '&btnG=Google+Search&tbs=0&safe=off&tbm=isch'\n",
    "    headers={'User-Agent':\"Mozilla/5.0 (Windows NT 6.1; WOW64) AppleWebKit/537.36 (KHTML, like Gecko) Chrome/43.0.2357.134 Safari/537.36\"}\n",
    "\n",
    "    html = requests.get(url, headers=headers).text\n",
    "\n",
    "    soup = BeautifulSoup(html, 'html.parser')\n",
    "    image = soup.find(\"img\",{\"class\":\"yWs4tf\"})\n",
    "#     print(image)\n",
    "\n",
    "    if not image:\n",
    "        return \n",
    "    return image['src']\n"
   ]
  },
  {
   "cell_type": "code",
   "execution_count": 30,
   "metadata": {},
   "outputs": [
    {
     "name": "stdout",
     "output_type": "stream",
     "text": [
      "https://encrypted-tbn0.gstatic.com/images?q=tbn:ANd9GcQkixelwO2Hk4OJw0xh4HT79G9QjL_CRfOCHNXFYouRYYk5gzsJ_sfZ4P5E8g&s\n"
     ]
    }
   ],
   "source": [
    "# query = input(\"search term\\n\")\n",
    "print(get_google_img(\"banana\") or \"no image found\")"
   ]
  },
  {
   "cell_type": "code",
   "execution_count": 38,
   "metadata": {},
   "outputs": [
    {
     "name": "stdout",
     "output_type": "stream",
     "text": [
      "Searching: electronics, smartphone, xiaomi\n"
     ]
    }
   ],
   "source": [
    "\n",
    "from PIL import Image, ImageDraw\n",
    "\n",
    "for imgq in list_search:\n",
    "    print(f\"Searching: {imgq}\")\n",
    "    imgsrc = get_google_img(imgq)\n",
    "    response = requests.get(imgsrc)\n",
    "    img = Image.open(BytesIO(response.content))\n",
    "    img.save(\"a.jpg\")\n",
    "    \n",
    "    "
   ]
  },
  {
   "cell_type": "markdown",
   "metadata": {},
   "source": [
    "## Finding the unique "
   ]
  },
  {
   "cell_type": "code",
   "execution_count": null,
   "metadata": {},
   "outputs": [],
   "source": []
  },
  {
   "cell_type": "code",
   "execution_count": null,
   "metadata": {},
   "outputs": [],
   "source": []
  },
  {
   "cell_type": "code",
   "execution_count": null,
   "metadata": {},
   "outputs": [],
   "source": []
  }
 ],
 "metadata": {
  "kernelspec": {
   "display_name": "Python 3",
   "language": "python",
   "name": "python3"
  },
  "language_info": {
   "codemirror_mode": {
    "name": "ipython",
    "version": 3
   },
   "file_extension": ".py",
   "mimetype": "text/x-python",
   "name": "python",
   "nbconvert_exporter": "python",
   "pygments_lexer": "ipython3",
   "version": "3.8.3"
  }
 },
 "nbformat": 4,
 "nbformat_minor": 4
}
