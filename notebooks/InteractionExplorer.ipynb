{
 "cells": [
  {
   "cell_type": "code",
   "execution_count": 2,
   "metadata": {},
   "outputs": [],
   "source": [
    "import pandas as pd\n",
    "import numpy as np\n",
    "import math"
   ]
  },
  {
   "cell_type": "code",
   "execution_count": 27,
   "metadata": {},
   "outputs": [],
   "source": [
    "\n",
    "FILE = \"data/oct_interactions.csv\"\n",
    "OUTPUT_FILE = \"data/oct_interactions_converted.csv\"\n",
    "OUTPUT_FILE_CAPPED = \"data/oct_interactions_capped.csv\"\n",
    "MODEL_C = \"data/interaction_model_c.csv\" #Interaction models Full with sum\n",
    "MODEL_D = \"data/interaction_model_d.csv\" #Interaction models shortened top 1000 0000"
   ]
  },
  {
   "cell_type": "code",
   "execution_count": 4,
   "metadata": {},
   "outputs": [],
   "source": [
    "\n",
    "df = pd.read_csv(FILE)"
   ]
  },
  {
   "cell_type": "code",
   "execution_count": 5,
   "metadata": {},
   "outputs": [
    {
     "data": {
      "text/plain": [
       "Index(['Unnamed: 0', 'user_productid', 'score', 'user', 'product_id'], dtype='object')"
      ]
     },
     "execution_count": 5,
     "metadata": {},
     "output_type": "execute_result"
    }
   ],
   "source": [
    "df.columns"
   ]
  },
  {
   "cell_type": "code",
   "execution_count": 6,
   "metadata": {
    "collapsed": true
   },
   "outputs": [
    {
     "data": {
      "text/plain": [
       "array([   1,    2,    3,    4,    5,   16,    7,    8,   17,    9,   14,\n",
       "          6,   11,   10,   26,   13,   15,   19,   18,   22,   12,   25,\n",
       "         37,   31,   21,   23,   43,   24,   30,   20,   27,   33,   48,\n",
       "         51,   28,   91,   32,   36,   29,   50,   49,   35,   66,   74,\n",
       "         34,   53,   52,   55,   47,   86,   56,   41,   89,   38,   61,\n",
       "         57,   60,   95,   59,  146,   45,   46,   81,   77,   39,   99,\n",
       "         76,   68,  105,   40,   71,  155,  207,  140,   62,   84,  127,\n",
       "         80,  116,   70,  144,  120,   44,  108,   42,  121,   64,   97,\n",
       "        110,   72,  205,   73,   63,   79,   54,   65,   75,  157,   85,\n",
       "        184,  132,  122,  485,  508,  166,  549,  314,   58,  151,  156,\n",
       "        104,  109,  123,   88,  100,   69,  111,   82,  185,  102,   67,\n",
       "        134,  161,  115,   90,  520,  256,  112,   83,  137,   78,  117,\n",
       "        124,  103,  118,  107,  136,  106,  126,  160,  152,   93,  177,\n",
       "        101,  174,  228,  225,  211,  206,  193,  113,   98,   94,   87,\n",
       "        197,  204,  252,  196,   92,  148,  312,  139,  263,  159,  261,\n",
       "        125,  114,  168,  182,  308,  212,  162,  235,  189,  145,  129,\n",
       "        191,  307,  323,  246,  167,  131,   96,  128,  154,  180,  440,\n",
       "        164,  220,  192,  138,  158,  200,  172,  183,  202,  437,  233,\n",
       "        147,  199,  163,  349,  313,  264,  153,  340,  288,  188,  268,\n",
       "        213,  436,  230,  119,  195,  218,  325,  258,  176,  327,  244,\n",
       "        295,  150,  378,  201,  141,  419,  241,  280,  477,  272,  333,\n",
       "        240,  297,  133,  231,  239,  135,  283,  232,  277,  309,  170,\n",
       "        142,  229,  171,  302,  324,  251,  175,  559,  169,  285,  304,\n",
       "        143,  181,  254,  222,  374,  388,  316,  366,  238,  661,  187,\n",
       "        242,  348,  179,  352,  290,  217,  149,  208,  224,  281,  214,\n",
       "        215,  130,  310,  517,  250,  521,  632,  210,  357,  165,  284,\n",
       "        269,  565,  296,  178,  209,  253,  227,  970, 1249,  221,  173,\n",
       "        351,  198,  381,  407,  519,  318,  279,  992,  664,  328,  203,\n",
       "        305,  339,  266,  265,  245,  432,  320, 2199,  408,  267,  336,\n",
       "        186,  223,  344,  355,  286,  512,  255,  219,  527,  360,  416,\n",
       "        330,  367,  311,  874,  248,  550,  668,  249,  555,  243,  194,\n",
       "       1150,  612,  234,  257,  401,  417,  356,  226,  262,  688,  341,\n",
       "        274,  498,  372,  259,  298,  190,  247,  459,  334,  306,  698,\n",
       "        335,  287,  329,  394,  293,  260,  275,  457,  278,  216,  391,\n",
       "        601,  270,  291,  369,  292,  300,  343,  276,  390], dtype=int64)"
      ]
     },
     "execution_count": 6,
     "metadata": {},
     "output_type": "execute_result"
    }
   ],
   "source": [
    "df['score'].unique()"
   ]
  },
  {
   "cell_type": "code",
   "execution_count": 7,
   "metadata": {},
   "outputs": [
    {
     "data": {
      "text/plain": [
       "count    2.330763e+07\n",
       "mean     2.028228e+00\n",
       "std      3.639464e+00\n",
       "min      1.000000e+00\n",
       "25%      1.000000e+00\n",
       "50%      1.000000e+00\n",
       "75%      2.000000e+00\n",
       "max      2.199000e+03\n",
       "Name: score, dtype: float64"
      ]
     },
     "execution_count": 7,
     "metadata": {},
     "output_type": "execute_result"
    }
   ],
   "source": [
    "df['score'].describe()"
   ]
  },
  {
   "cell_type": "code",
   "execution_count": 8,
   "metadata": {},
   "outputs": [],
   "source": [
    "gb = df.groupby('score')\n",
    "count_scores = gb['score'].count()"
   ]
  },
  {
   "cell_type": "code",
   "execution_count": 9,
   "metadata": {},
   "outputs": [
    {
     "data": {
      "text/plain": [
       "(0.0, 25.0)"
      ]
     },
     "execution_count": 9,
     "metadata": {},
     "output_type": "execute_result"
    },
    {
     "data": {
      "image/png": "[encoded data removed]",
      "text/plain": [
       "<Figure size 432x288 with 1 Axes>"
      ]
     },
     "metadata": {
      "needs_background": "light"
     },
     "output_type": "display_data"
    }
   ],
   "source": [
    "ax = count_scores.plot()\n",
    "ax.set_ylim(0, 25)"
   ]
  },
  {
   "cell_type": "code",
   "execution_count": 20,
   "metadata": {},
   "outputs": [
    {
     "data": {
      "text/plain": [
       "[]"
      ]
     },
     "execution_count": 20,
     "metadata": {},
     "output_type": "execute_result"
    }
   ],
   "source": [
    "ax.set_xlim(0, 25)"
   ]
  },
  {
   "cell_type": "code",
   "execution_count": 10,
   "metadata": {},
   "outputs": [],
   "source": [
    "def capper(score: int):\n",
    "    \"\"\"\n",
    "    The idea is that it will be capping it in 10's\n",
    "    \"\"\"\n",
    "    CAP:int = 10\n",
    "    if score > CAP:\n",
    "        return 10\n",
    "    return score\n",
    "\n",
    "\n",
    "    \n",
    "    \n",
    "    "
   ]
  },
  {
   "cell_type": "code",
   "execution_count": 11,
   "metadata": {},
   "outputs": [],
   "source": [
    "df_capped = df\n",
    "df_capped['score'] = df_capped['score'].apply(capper)"
   ]
  },
  {
   "cell_type": "code",
   "execution_count": 12,
   "metadata": {},
   "outputs": [
    {
     "data": {
      "text/html": [
       "<div>\n",
       "<style scoped>\n",
       "    .dataframe tbody tr th:only-of-type {\n",
       "        vertical-align: middle;\n",
       "    }\n",
       "\n",
       "    .dataframe tbody tr th {\n",
       "        vertical-align: top;\n",
       "    }\n",
       "\n",
       "    .dataframe thead th {\n",
       "        text-align: right;\n",
       "    }\n",
       "</style>\n",
       "<table border=\"1\" class=\"dataframe\">\n",
       "  <thead>\n",
       "    <tr style=\"text-align: right;\">\n",
       "      <th></th>\n",
       "      <th>Unnamed: 0</th>\n",
       "      <th>user_productid</th>\n",
       "      <th>score</th>\n",
       "      <th>user</th>\n",
       "      <th>product_id</th>\n",
       "    </tr>\n",
       "  </thead>\n",
       "  <tbody>\n",
       "    <tr>\n",
       "      <th>0</th>\n",
       "      <td>0</td>\n",
       "      <td>183503497-22200103</td>\n",
       "      <td>1</td>\n",
       "      <td>183503497</td>\n",
       "      <td>22200103</td>\n",
       "    </tr>\n",
       "    <tr>\n",
       "      <th>1</th>\n",
       "      <td>1</td>\n",
       "      <td>184265397-27400002</td>\n",
       "      <td>2</td>\n",
       "      <td>184265397</td>\n",
       "      <td>27400002</td>\n",
       "    </tr>\n",
       "    <tr>\n",
       "      <th>2</th>\n",
       "      <td>2</td>\n",
       "      <td>184265397-6902133</td>\n",
       "      <td>2</td>\n",
       "      <td>184265397</td>\n",
       "      <td>6902133</td>\n",
       "    </tr>\n",
       "    <tr>\n",
       "      <th>3</th>\n",
       "      <td>3</td>\n",
       "      <td>184265397-6902303</td>\n",
       "      <td>2</td>\n",
       "      <td>184265397</td>\n",
       "      <td>6902303</td>\n",
       "    </tr>\n",
       "    <tr>\n",
       "      <th>4</th>\n",
       "      <td>4</td>\n",
       "      <td>195082191-4804056</td>\n",
       "      <td>1</td>\n",
       "      <td>195082191</td>\n",
       "      <td>4804056</td>\n",
       "    </tr>\n",
       "  </tbody>\n",
       "</table>\n",
       "</div>"
      ],
      "text/plain": [
       "   Unnamed: 0      user_productid  score       user  product_id\n",
       "0           0  183503497-22200103      1  183503497    22200103\n",
       "1           1  184265397-27400002      2  184265397    27400002\n",
       "2           2   184265397-6902133      2  184265397     6902133\n",
       "3           3   184265397-6902303      2  184265397     6902303\n",
       "4           4   195082191-4804056      1  195082191     4804056"
      ]
     },
     "execution_count": 12,
     "metadata": {},
     "output_type": "execute_result"
    }
   ],
   "source": [
    "df_capped.head()"
   ]
  },
  {
   "cell_type": "code",
   "execution_count": 17,
   "metadata": {},
   "outputs": [
    {
     "data": {
      "text/plain": [
       "array([ 1,  2,  3,  4,  5, 10,  7,  8,  9,  6], dtype=int64)"
      ]
     },
     "execution_count": 17,
     "metadata": {},
     "output_type": "execute_result"
    }
   ],
   "source": [
    "df_capped['score'].unique()"
   ]
  },
  {
   "cell_type": "code",
   "execution_count": 23,
   "metadata": {},
   "outputs": [],
   "source": [
    "rows = ['score', 'user', 'product_id']\n",
    "\n",
    "df_capped.head()[rows].to_csv(OUTPUT_FILE_CAPPED, index=False)"
   ]
  },
  {
   "cell_type": "code",
   "execution_count": 24,
   "metadata": {},
   "outputs": [],
   "source": [
    "\n",
    "df_capped[rows].to_csv(OUTPUT_FILE, index=False)"
   ]
  },
  {
   "cell_type": "code",
   "execution_count": 26,
   "metadata": {},
   "outputs": [],
   "source": [
    "\n",
    "df[rows].to_csv(MODEL_C, index=False)"
   ]
  },
  {
   "cell_type": "code",
   "execution_count": 28,
   "metadata": {},
   "outputs": [],
   "source": [
    "df_capped[rows].head(1000000).to_csv(MODEL_D, index=False)"
   ]
  },
  {
   "cell_type": "code",
   "execution_count": 31,
   "metadata": {},
   "outputs": [
    {
     "data": {
      "text/html": [
       "<div>\n",
       "<style scoped>\n",
       "    .dataframe tbody tr th:only-of-type {\n",
       "        vertical-align: middle;\n",
       "    }\n",
       "\n",
       "    .dataframe tbody tr th {\n",
       "        vertical-align: top;\n",
       "    }\n",
       "\n",
       "    .dataframe thead th {\n",
       "        text-align: right;\n",
       "    }\n",
       "</style>\n",
       "<table border=\"1\" class=\"dataframe\">\n",
       "  <thead>\n",
       "    <tr style=\"text-align: right;\">\n",
       "      <th></th>\n",
       "      <th>score</th>\n",
       "      <th>user</th>\n",
       "      <th>product_id</th>\n",
       "    </tr>\n",
       "  </thead>\n",
       "  <tbody>\n",
       "    <tr>\n",
       "      <th>0</th>\n",
       "      <td>1</td>\n",
       "      <td>183503497</td>\n",
       "      <td>22200103</td>\n",
       "    </tr>\n",
       "    <tr>\n",
       "      <th>1</th>\n",
       "      <td>2</td>\n",
       "      <td>184265397</td>\n",
       "      <td>27400002</td>\n",
       "    </tr>\n",
       "    <tr>\n",
       "      <th>2</th>\n",
       "      <td>2</td>\n",
       "      <td>184265397</td>\n",
       "      <td>6902133</td>\n",
       "    </tr>\n",
       "    <tr>\n",
       "      <th>3</th>\n",
       "      <td>2</td>\n",
       "      <td>184265397</td>\n",
       "      <td>6902303</td>\n",
       "    </tr>\n",
       "    <tr>\n",
       "      <th>4</th>\n",
       "      <td>1</td>\n",
       "      <td>195082191</td>\n",
       "      <td>4804056</td>\n",
       "    </tr>\n",
       "  </tbody>\n",
       "</table>\n",
       "</div>"
      ],
      "text/plain": [
       "   score       user  product_id\n",
       "0      1  183503497    22200103\n",
       "1      2  184265397    27400002\n",
       "2      2  184265397     6902133\n",
       "3      2  184265397     6902303\n",
       "4      1  195082191     4804056"
      ]
     },
     "execution_count": 31,
     "metadata": {},
     "output_type": "execute_result"
    }
   ],
   "source": [
    "df_capped[rows].head()"
   ]
  },
  {
   "cell_type": "code",
   "execution_count": null,
   "metadata": {},
   "outputs": [],
   "source": []
  }
 ],
 "metadata": {
  "kernelspec": {
   "display_name": "Python 3",
   "language": "python",
   "name": "python3"
  },
  "language_info": {
   "codemirror_mode": {
    "name": "ipython",
    "version": 3
   },
   "file_extension": ".py",
   "mimetype": "text/x-python",
   "name": "python",
   "nbconvert_exporter": "python",
   "pygments_lexer": "ipython3",
   "version": "3.8.3"
  }
 },
 "nbformat": 4,
 "nbformat_minor": 4
}
