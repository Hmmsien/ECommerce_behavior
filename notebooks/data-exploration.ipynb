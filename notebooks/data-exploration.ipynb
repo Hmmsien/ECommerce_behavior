{
 "cells": [
  {
   "cell_type": "code",
   "execution_count": 58,
   "id": "70bbe7b9",
   "metadata": {},
   "outputs": [],
   "source": [
    "# Libraries\n",
    "import pandas as pd\n",
    "import seaborn as sns\n"
   ]
  },
  {
   "cell_type": "code",
   "execution_count": 39,
   "id": "7f2561e4-9abd-40fd-aa09-c2f63e95dba3",
   "metadata": {},
   "outputs": [
    {
     "name": "stdout",
     "output_type": "stream",
     "text": [
      "Switched to a new branch 'nelson'\n"
     ]
    }
   ],
   "source": [
    "!git checkout -b \"nelson\""
   ]
  },
  {
   "cell_type": "code",
   "execution_count": 86,
   "id": "87cbb8b9-e6c4-4585-b059-b3bacd66ce19",
   "metadata": {},
   "outputs": [
    {
     "name": "stdout",
     "output_type": "stream",
     "text": [
      "  main\u001b[m\n",
      "* \u001b[32mnelson\u001b[m\n",
      "[nelson 3c1e2e1] starting exploration | view vs purchase\n",
      " 2 files changed, 1052 insertions(+), 48 deletions(-)\n",
      "Enumerating objects: 7, done.\n",
      "Counting objects: 100% (7/7), done.\n",
      "Delta compression using up to 12 threads\n",
      "Compressing objects: 100% (4/4), done.\n",
      "Writing objects: 100% (4/4), 62.39 KiB | 6.24 MiB/s, done.\n",
      "Total 4 (delta 3), reused 0 (delta 0)\n",
      "remote: Resolving deltas: 100% (3/3), completed with 3 local objects.\u001b[K\n",
      "To https://github.com/Hmmsien/ECommerce_behavior.git\n",
      "   655be1a..3c1e2e1  HEAD -> nelson\n"
     ]
    }
   ],
   "source": [
    "# Git\n",
    "!git branch\n",
    "!git coa \"starting exploration | view vs purchase\" && git poh"
   ]
  },
  {
   "cell_type": "markdown",
   "id": "fa209605-411c-4f68-add5-a8bc1a93ed08",
   "metadata": {},
   "source": [
    "## Visualization first million rows\n"
   ]
  },
  {
   "cell_type": "code",
   "execution_count": 5,
   "id": "0a0d3c86",
   "metadata": {},
   "outputs": [],
   "source": [
    "df = pd.read_csv('data/2019-Nov.csv',nrows = 1000000)"
   ]
  },
  {
   "cell_type": "code",
   "execution_count": 6,
   "id": "2f96c55e",
   "metadata": {},
   "outputs": [
    {
     "data": {
      "text/html": [
       "<div>\n",
       "<style scoped>\n",
       "    .dataframe tbody tr th:only-of-type {\n",
       "        vertical-align: middle;\n",
       "    }\n",
       "\n",
       "    .dataframe tbody tr th {\n",
       "        vertical-align: top;\n",
       "    }\n",
       "\n",
       "    .dataframe thead th {\n",
       "        text-align: right;\n",
       "    }\n",
       "</style>\n",
       "<table border=\"1\" class=\"dataframe\">\n",
       "  <thead>\n",
       "    <tr style=\"text-align: right;\">\n",
       "      <th></th>\n",
       "      <th>event_time</th>\n",
       "      <th>event_type</th>\n",
       "      <th>product_id</th>\n",
       "      <th>category_id</th>\n",
       "      <th>category_code</th>\n",
       "      <th>brand</th>\n",
       "      <th>price</th>\n",
       "      <th>user_id</th>\n",
       "      <th>user_session</th>\n",
       "    </tr>\n",
       "  </thead>\n",
       "  <tbody>\n",
       "    <tr>\n",
       "      <th>0</th>\n",
       "      <td>2019-11-01 00:00:00 UTC</td>\n",
       "      <td>view</td>\n",
       "      <td>1003461</td>\n",
       "      <td>2053013555631882655</td>\n",
       "      <td>electronics.smartphone</td>\n",
       "      <td>xiaomi</td>\n",
       "      <td>489.07</td>\n",
       "      <td>520088904</td>\n",
       "      <td>4d3b30da-a5e4-49df-b1a8-ba5943f1dd33</td>\n",
       "    </tr>\n",
       "    <tr>\n",
       "      <th>1</th>\n",
       "      <td>2019-11-01 00:00:00 UTC</td>\n",
       "      <td>view</td>\n",
       "      <td>5000088</td>\n",
       "      <td>2053013566100866035</td>\n",
       "      <td>appliances.sewing_machine</td>\n",
       "      <td>janome</td>\n",
       "      <td>293.65</td>\n",
       "      <td>530496790</td>\n",
       "      <td>8e5f4f83-366c-4f70-860e-ca7417414283</td>\n",
       "    </tr>\n",
       "    <tr>\n",
       "      <th>2</th>\n",
       "      <td>2019-11-01 00:00:01 UTC</td>\n",
       "      <td>view</td>\n",
       "      <td>17302664</td>\n",
       "      <td>2053013553853497655</td>\n",
       "      <td>NaN</td>\n",
       "      <td>creed</td>\n",
       "      <td>28.31</td>\n",
       "      <td>561587266</td>\n",
       "      <td>755422e7-9040-477b-9bd2-6a6e8fd97387</td>\n",
       "    </tr>\n",
       "    <tr>\n",
       "      <th>3</th>\n",
       "      <td>2019-11-01 00:00:01 UTC</td>\n",
       "      <td>view</td>\n",
       "      <td>3601530</td>\n",
       "      <td>2053013563810775923</td>\n",
       "      <td>appliances.kitchen.washer</td>\n",
       "      <td>lg</td>\n",
       "      <td>712.87</td>\n",
       "      <td>518085591</td>\n",
       "      <td>3bfb58cd-7892-48cc-8020-2f17e6de6e7f</td>\n",
       "    </tr>\n",
       "    <tr>\n",
       "      <th>4</th>\n",
       "      <td>2019-11-01 00:00:01 UTC</td>\n",
       "      <td>view</td>\n",
       "      <td>1004775</td>\n",
       "      <td>2053013555631882655</td>\n",
       "      <td>electronics.smartphone</td>\n",
       "      <td>xiaomi</td>\n",
       "      <td>183.27</td>\n",
       "      <td>558856683</td>\n",
       "      <td>313628f1-68b8-460d-84f6-cec7a8796ef2</td>\n",
       "    </tr>\n",
       "  </tbody>\n",
       "</table>\n",
       "</div>"
      ],
      "text/plain": [
       "                event_time event_type  product_id          category_id  \\\n",
       "0  2019-11-01 00:00:00 UTC       view     1003461  2053013555631882655   \n",
       "1  2019-11-01 00:00:00 UTC       view     5000088  2053013566100866035   \n",
       "2  2019-11-01 00:00:01 UTC       view    17302664  2053013553853497655   \n",
       "3  2019-11-01 00:00:01 UTC       view     3601530  2053013563810775923   \n",
       "4  2019-11-01 00:00:01 UTC       view     1004775  2053013555631882655   \n",
       "\n",
       "               category_code   brand   price    user_id  \\\n",
       "0     electronics.smartphone  xiaomi  489.07  520088904   \n",
       "1  appliances.sewing_machine  janome  293.65  530496790   \n",
       "2                        NaN   creed   28.31  561587266   \n",
       "3  appliances.kitchen.washer      lg  712.87  518085591   \n",
       "4     electronics.smartphone  xiaomi  183.27  558856683   \n",
       "\n",
       "                           user_session  \n",
       "0  4d3b30da-a5e4-49df-b1a8-ba5943f1dd33  \n",
       "1  8e5f4f83-366c-4f70-860e-ca7417414283  \n",
       "2  755422e7-9040-477b-9bd2-6a6e8fd97387  \n",
       "3  3bfb58cd-7892-48cc-8020-2f17e6de6e7f  \n",
       "4  313628f1-68b8-460d-84f6-cec7a8796ef2  "
      ]
     },
     "execution_count": 6,
     "metadata": {},
     "output_type": "execute_result"
    }
   ],
   "source": [
    "df.head()"
   ]
  },
  {
   "cell_type": "code",
   "execution_count": 7,
   "id": "0a034487-038b-4eec-9e98-0769a14a6f0d",
   "metadata": {},
   "outputs": [
    {
     "data": {
      "text/plain": [
       "(1000000, 9)"
      ]
     },
     "execution_count": 7,
     "metadata": {},
     "output_type": "execute_result"
    }
   ],
   "source": [
    "df.shape"
   ]
  },
  {
   "cell_type": "code",
   "execution_count": 8,
   "id": "02f31771-80b2-47a7-b9dd-0ee9d8c82cae",
   "metadata": {},
   "outputs": [
    {
     "data": {
      "text/plain": [
       "event_time            0\n",
       "event_type            0\n",
       "product_id            0\n",
       "category_id           0\n",
       "category_code    316977\n",
       "brand            147197\n",
       "price                 0\n",
       "user_id               0\n",
       "user_session          0\n",
       "dtype: int64"
      ]
     },
     "execution_count": 8,
     "metadata": {},
     "output_type": "execute_result"
    }
   ],
   "source": [
    "df.isnull().sum()"
   ]
  },
  {
   "cell_type": "code",
   "execution_count": 9,
   "id": "ac1e3aa9-607d-4c35-b13b-d3d0f354018a",
   "metadata": {},
   "outputs": [
    {
     "data": {
      "text/plain": [
       "(622161, 9)"
      ]
     },
     "execution_count": 9,
     "metadata": {},
     "output_type": "execute_result"
    }
   ],
   "source": [
    "df = df.dropna()\n",
    "df = df.drop_duplicates()\n",
    "df.shape"
   ]
  },
  {
   "cell_type": "markdown",
   "id": "3515fc7f-aa5a-4459-bd56-55e975d5d43b",
   "metadata": {
    "tags": []
   },
   "source": [
    "# Looking at Groups (Categorizable)"
   ]
  },
  {
   "cell_type": "code",
   "execution_count": 10,
   "id": "392878ce-9fe2-494e-917b-6fbeba91a26c",
   "metadata": {},
   "outputs": [
    {
     "data": {
      "text/plain": [
       "event_type\n",
       "cart         12736\n",
       "purchase     12867\n",
       "view        596558\n",
       "dtype: int64"
      ]
     },
     "execution_count": 10,
     "metadata": {},
     "output_type": "execute_result"
    }
   ],
   "source": [
    "event_group = df.groupby(\"event_type\")\n",
    "event_group.size()"
   ]
  },
  {
   "cell_type": "markdown",
   "id": "e74f8063-5866-4643-9382-26be365a7c2b",
   "metadata": {
    "tags": []
   },
   "source": [
    "### User Behaviours\n",
    "\n",
    "- Highest views\n",
    "- view people with highest views \n",
    "- View people with highest purchases\n",
    "- Correlation views and purchases\n"
   ]
  },
  {
   "cell_type": "code",
   "execution_count": 11,
   "id": "44d6c722-91d7-4b23-9d0f-10da7a8edb82",
   "metadata": {
    "collapsed": true,
    "jupyter": {
     "outputs_hidden": true
    },
    "tags": []
   },
   "outputs": [
    {
     "data": {
      "text/plain": [
       "user_id\n",
       "274969076    3\n",
       "275256741    1\n",
       "295643776    8\n",
       "296465302    2\n",
       "321019934    1\n",
       "            ..\n",
       "566505596    1\n",
       "566505617    2\n",
       "566505649    1\n",
       "566505735    1\n",
       "566505856    1\n",
       "Length: 121662, dtype: int64"
      ]
     },
     "execution_count": 11,
     "metadata": {},
     "output_type": "execute_result"
    }
   ],
   "source": [
    "user_group = df.groupby(\"user_id\")\n",
    "user_group.size()"
   ]
  },
  {
   "cell_type": "code",
   "execution_count": 15,
   "id": "7067cf55-43fc-49d4-90fc-bd2d9c439cb9",
   "metadata": {
    "jupyter": {
     "source_hidden": true
    },
    "tags": []
   },
   "outputs": [
    {
     "data": {
      "text/plain": [
       "<AxesSubplot:title={'center':'Users with most activity'}, ylabel='user_id'>"
      ]
     },
     "execution_count": 15,
     "metadata": {},
     "output_type": "execute_result"
    },
    {
     "data": {
      "image/png": "[encoded data removed]",
      "text/plain": [
       "<Figure size 432x288 with 1 Axes>"
      ]
     },
     "metadata": {
      "needs_background": "light"
     },
     "output_type": "display_data"
    }
   ],
   "source": [
    "usercount = user_group[\"user_id\"].count().sort_values(ascending=False)\n",
    "usercount[:10].plot(kind=\"barh\", title=\"Users with most activity\")"
   ]
  },
  {
   "cell_type": "code",
   "execution_count": 17,
   "id": "80c749da-7d10-4472-86db-9e9f101ecb0d",
   "metadata": {},
   "outputs": [
    {
     "data": {
      "text/plain": [
       "<AxesSubplot:title={'center':'Users with highest spenditure'}, ylabel='user_id'>"
      ]
     },
     "execution_count": 17,
     "metadata": {},
     "output_type": "execute_result"
    },
    {
     "data": {
      "image/png": "[encoded data removed]",
      "text/plain": [
       "<Figure size 432x288 with 1 Axes>"
      ]
     },
     "metadata": {
      "needs_background": "light"
     },
     "output_type": "display_data"
    }
   ],
   "source": [
    "userspend = user_group[\"price\"].sum().sort_values(ascending=False)\n",
    "userspend[:10].plot(kind=\"barh\", title=\"Users with highest spenditure\")"
   ]
  },
  {
   "cell_type": "code",
   "execution_count": 42,
   "id": "42139ee5-aad8-4a73-bb74-ab17939658ae",
   "metadata": {},
   "outputs": [
    {
     "data": {
      "text/plain": [
       "<AxesSubplot:title={'center':'Users that viewed the most'}, ylabel='user_id'>"
      ]
     },
     "execution_count": 42,
     "metadata": {},
     "output_type": "execute_result"
    },
    {
     "data": {
      "image/png": "[encoded data removed]",
      "text/plain": [
       "<Figure size 432x288 with 1 Axes>"
      ]
     },
     "metadata": {
      "needs_background": "light"
     },
     "output_type": "display_data"
    }
   ],
   "source": [
    "user_group_purchase = df[df[\"event_type\"]==\"view\"].groupby(\"user_id\")\n",
    "userActView = user_group_purchase[\"user_id\"].count().sort_values(ascending=False)\n",
    "userActView[:15].plot(kind=\"barh\", title=\"Users that viewed the most\")"
   ]
  },
  {
   "cell_type": "code",
   "execution_count": 43,
   "id": "55441b18-bc03-44bc-96f1-bf2cf9c4a91c",
   "metadata": {},
   "outputs": [
    {
     "data": {
      "text/plain": [
       "<AxesSubplot:title={'center':'Users that bought the most'}, ylabel='user_id'>"
      ]
     },
     "execution_count": 43,
     "metadata": {},
     "output_type": "execute_result"
    },
    {
     "data": {
      "image/png": "[encoded data removed]",
      "text/plain": [
       "<Figure size 432x288 with 1 Axes>"
      ]
     },
     "metadata": {
      "needs_background": "light"
     },
     "output_type": "display_data"
    }
   ],
   "source": [
    "user_group_purchase = df[df[\"event_type\"]==\"purchase\"].groupby(\"user_id\")\n",
    "userActPurchase = user_group_purchase[\"user_id\"].count().sort_values(ascending=False)\n",
    "userActPurchase[:15].plot(kind=\"barh\", title=\"Users that bought the most\")"
   ]
  },
  {
   "cell_type": "code",
   "execution_count": 44,
   "id": "233e8991-d0dc-483c-9d7e-9b8f920ce07f",
   "metadata": {},
   "outputs": [
    {
     "data": {
      "text/plain": [
       "pandas.core.series.Series"
      ]
     },
     "execution_count": 44,
     "metadata": {},
     "output_type": "execute_result"
    }
   ],
   "source": [
    "type(userActPurchase)"
   ]
  },
  {
   "cell_type": "code",
   "execution_count": 53,
   "id": "9b9f4115-baf6-4c6c-9dd0-5404977bd2fb",
   "metadata": {
    "collapsed": true,
    "jupyter": {
     "outputs_hidden": true
    },
    "tags": []
   },
   "outputs": [
    {
     "data": {
      "text/html": [
       "<div>\n",
       "<style scoped>\n",
       "    .dataframe tbody tr th:only-of-type {\n",
       "        vertical-align: middle;\n",
       "    }\n",
       "\n",
       "    .dataframe tbody tr th {\n",
       "        vertical-align: top;\n",
       "    }\n",
       "\n",
       "    .dataframe thead th {\n",
       "        text-align: right;\n",
       "    }\n",
       "</style>\n",
       "<table border=\"1\" class=\"dataframe\">\n",
       "  <thead>\n",
       "    <tr style=\"text-align: right;\">\n",
       "      <th></th>\n",
       "      <th>count_view</th>\n",
       "      <th>count_purchase</th>\n",
       "    </tr>\n",
       "    <tr>\n",
       "      <th>user_id</th>\n",
       "      <th></th>\n",
       "      <th></th>\n",
       "    </tr>\n",
       "  </thead>\n",
       "  <tbody>\n",
       "    <tr>\n",
       "      <th>551801600</th>\n",
       "      <td>19</td>\n",
       "      <td>50</td>\n",
       "    </tr>\n",
       "    <tr>\n",
       "      <th>526933626</th>\n",
       "      <td>18</td>\n",
       "      <td>27</td>\n",
       "    </tr>\n",
       "    <tr>\n",
       "      <th>565969544</th>\n",
       "      <td>17</td>\n",
       "      <td>28</td>\n",
       "    </tr>\n",
       "    <tr>\n",
       "      <th>515676312</th>\n",
       "      <td>17</td>\n",
       "      <td>35</td>\n",
       "    </tr>\n",
       "    <tr>\n",
       "      <th>564438023</th>\n",
       "      <td>16</td>\n",
       "      <td>51</td>\n",
       "    </tr>\n",
       "  </tbody>\n",
       "</table>\n",
       "</div>"
      ],
      "text/plain": [
       "           count_view  count_purchase\n",
       "user_id                              \n",
       "551801600          19              50\n",
       "526933626          18              27\n",
       "565969544          17              28\n",
       "515676312          17              35\n",
       "564438023          16              51"
      ]
     },
     "execution_count": 53,
     "metadata": {},
     "output_type": "execute_result"
    }
   ],
   "source": [
    "user_activity = pd.merge(userActPurchase, userActView, right_index=True, left_index= True)\n",
    "user_activity.columns=[\"count_view\", \"count_purchase\"]\n",
    "user_activity.head()"
   ]
  },
  {
   "cell_type": "code",
   "execution_count": 54,
   "id": "172a7e35-32fa-445e-a433-897c54eb073d",
   "metadata": {},
   "outputs": [
    {
     "data": {
      "text/plain": [
       "<AxesSubplot:xlabel='count_view', ylabel='count_purchase'>"
      ]
     },
     "execution_count": 54,
     "metadata": {},
     "output_type": "execute_result"
    },
    {
     "data": {
      "image/png": "[encoded data removed]",
      "text/plain": [
       "<Figure size 432x288 with 1 Axes>"
      ]
     },
     "metadata": {
      "needs_background": "light"
     },
     "output_type": "display_data"
    }
   ],
   "source": [
    "user_activity.plot.scatter(x=\"count_view\", y=\"count_purchase\")"
   ]
  },
  {
   "cell_type": "markdown",
   "id": "82b0c387-3c8f-486b-8706-adca3abdfad5",
   "metadata": {
    "jp-MarkdownHeadingCollapsed": true,
    "tags": []
   },
   "source": [
    "### Looking at Correlations"
   ]
  },
  {
   "cell_type": "code",
   "execution_count": 57,
   "id": "8ea5c972-1e68-483d-92f6-ba5f635104b3",
   "metadata": {},
   "outputs": [
    {
     "data": {
      "text/html": [
       "<div>\n",
       "<style scoped>\n",
       "    .dataframe tbody tr th:only-of-type {\n",
       "        vertical-align: middle;\n",
       "    }\n",
       "\n",
       "    .dataframe tbody tr th {\n",
       "        vertical-align: top;\n",
       "    }\n",
       "\n",
       "    .dataframe thead th {\n",
       "        text-align: right;\n",
       "    }\n",
       "</style>\n",
       "<table border=\"1\" class=\"dataframe\">\n",
       "  <thead>\n",
       "    <tr style=\"text-align: right;\">\n",
       "      <th></th>\n",
       "      <th>product_id</th>\n",
       "      <th>category_id</th>\n",
       "      <th>price</th>\n",
       "      <th>user_id</th>\n",
       "    </tr>\n",
       "  </thead>\n",
       "  <tbody>\n",
       "    <tr>\n",
       "      <th>product_id</th>\n",
       "      <td>1.000000</td>\n",
       "      <td>0.356365</td>\n",
       "      <td>-0.264445</td>\n",
       "      <td>-0.035274</td>\n",
       "    </tr>\n",
       "    <tr>\n",
       "      <th>category_id</th>\n",
       "      <td>0.356365</td>\n",
       "      <td>1.000000</td>\n",
       "      <td>-0.056850</td>\n",
       "      <td>-0.003642</td>\n",
       "    </tr>\n",
       "    <tr>\n",
       "      <th>price</th>\n",
       "      <td>-0.264445</td>\n",
       "      <td>-0.056850</td>\n",
       "      <td>1.000000</td>\n",
       "      <td>-0.028432</td>\n",
       "    </tr>\n",
       "    <tr>\n",
       "      <th>user_id</th>\n",
       "      <td>-0.035274</td>\n",
       "      <td>-0.003642</td>\n",
       "      <td>-0.028432</td>\n",
       "      <td>1.000000</td>\n",
       "    </tr>\n",
       "  </tbody>\n",
       "</table>\n",
       "</div>"
      ],
      "text/plain": [
       "             product_id  category_id     price   user_id\n",
       "product_id     1.000000     0.356365 -0.264445 -0.035274\n",
       "category_id    0.356365     1.000000 -0.056850 -0.003642\n",
       "price         -0.264445    -0.056850  1.000000 -0.028432\n",
       "user_id       -0.035274    -0.003642 -0.028432  1.000000"
      ]
     },
     "execution_count": 57,
     "metadata": {},
     "output_type": "execute_result"
    }
   ],
   "source": [
    "df.corr()"
   ]
  },
  {
   "cell_type": "code",
   "execution_count": 62,
   "id": "f3422a12-6dab-437e-87ca-67847abb14cd",
   "metadata": {},
   "outputs": [
    {
     "data": {
      "text/plain": [
       "<AxesSubplot:>"
      ]
     },
     "execution_count": 62,
     "metadata": {},
     "output_type": "execute_result"
    },
    {
     "data": {
      "image/png": "[encoded data removed]",
      "text/plain": [
       "<Figure size 432x288 with 2 Axes>"
      ]
     },
     "metadata": {
      "needs_background": "light"
     },
     "output_type": "display_data"
    }
   ],
   "source": [
    "sns.heatmap(df.corr(), annot=True, cmap=\"coolwarm\")"
   ]
  },
  {
   "cell_type": "code",
   "execution_count": null,
   "id": "775881c2-5ea3-4b10-880b-9afe4f69d05d",
   "metadata": {},
   "outputs": [],
   "source": []
  },
  {
   "cell_type": "code",
   "execution_count": 63,
   "id": "e480bd3b-5b4f-4aa2-bd5b-04896f3f5667",
   "metadata": {},
   "outputs": [
    {
     "data": {
      "text/html": [
       "<div>\n",
       "<style scoped>\n",
       "    .dataframe tbody tr th:only-of-type {\n",
       "        vertical-align: middle;\n",
       "    }\n",
       "\n",
       "    .dataframe tbody tr th {\n",
       "        vertical-align: top;\n",
       "    }\n",
       "\n",
       "    .dataframe thead th {\n",
       "        text-align: right;\n",
       "    }\n",
       "</style>\n",
       "<table border=\"1\" class=\"dataframe\">\n",
       "  <thead>\n",
       "    <tr style=\"text-align: right;\">\n",
       "      <th></th>\n",
       "      <th>count_view</th>\n",
       "      <th>count_purchase</th>\n",
       "    </tr>\n",
       "  </thead>\n",
       "  <tbody>\n",
       "    <tr>\n",
       "      <th>count_view</th>\n",
       "      <td>1.000000</td>\n",
       "      <td>0.259689</td>\n",
       "    </tr>\n",
       "    <tr>\n",
       "      <th>count_purchase</th>\n",
       "      <td>0.259689</td>\n",
       "      <td>1.000000</td>\n",
       "    </tr>\n",
       "  </tbody>\n",
       "</table>\n",
       "</div>"
      ],
      "text/plain": [
       "                count_view  count_purchase\n",
       "count_view        1.000000        0.259689\n",
       "count_purchase    0.259689        1.000000"
      ]
     },
     "execution_count": 63,
     "metadata": {},
     "output_type": "execute_result"
    }
   ],
   "source": [
    "user_activity.corr()"
   ]
  },
  {
   "cell_type": "markdown",
   "id": "66f5ef80-871c-4ddf-805d-2ce8cccb948b",
   "metadata": {},
   "source": [
    "### What people view, vs what people buy\n",
    "\n",
    "- What brands are viewed the most\n",
    "- What brands are bought the most\n",
    "\n",
    "\n",
    "- What brands are viewed the most by Category\n",
    "- What brands are bought the most by Category\n",
    "\n"
   ]
  },
  {
   "cell_type": "code",
   "execution_count": 71,
   "id": "26e56132-bd3a-45ec-bcb3-d5b6d89c7020",
   "metadata": {},
   "outputs": [
    {
     "data": {
      "text/plain": [
       "<AxesSubplot:ylabel='brand'>"
      ]
     },
     "execution_count": 71,
     "metadata": {},
     "output_type": "execute_result"
    },
    {
     "data": {
      "image/png": "[encoded data removed]",
      "text/plain": [
       "<Figure size 432x288 with 1 Axes>"
      ]
     },
     "metadata": {
      "needs_background": "light"
     },
     "output_type": "display_data"
    }
   ],
   "source": [
    "\n",
    "cond = df[\"event_type\"] == \"view\"\n",
    "brand_gb_view = df[cond].groupby(\"brand\")\n",
    "count_brand_view = brand_gb_view[\"brand\"].count().sort_values(ascending=False)\n",
    "\n",
    "count_brand_view[:10].plot(kind=\"barh\")"
   ]
  },
  {
   "cell_type": "code",
   "execution_count": 70,
   "id": "8513fe61-cc93-48a9-afe3-cab7ab420851",
   "metadata": {},
   "outputs": [
    {
     "data": {
      "text/plain": [
       "<AxesSubplot:ylabel='brand'>"
      ]
     },
     "execution_count": 70,
     "metadata": {},
     "output_type": "execute_result"
    },
    {
     "data": {
      "image/png": "[encoded data removed]",
      "text/plain": [
       "<Figure size 432x288 with 1 Axes>"
      ]
     },
     "metadata": {
      "needs_background": "light"
     },
     "output_type": "display_data"
    }
   ],
   "source": [
    "\n",
    "cond = df[\"event_type\"] == \"purchase\"\n",
    "brand_gb_purchase = df[cond].groupby(\"brand\")\n",
    "count_brand_purchase = brand_gb_purchase[\"brand\"].count().sort_values(ascending=False)\n",
    "\n",
    "count_brand_purchase[:10].plot(kind=\"barh\")"
   ]
  },
  {
   "cell_type": "code",
   "execution_count": 69,
   "id": "b3ede07b-c15d-47e1-a426-3eee6e302d8e",
   "metadata": {},
   "outputs": [
    {
     "data": {
      "text/plain": [
       "<AxesSubplot:ylabel='brand'>"
      ]
     },
     "execution_count": 69,
     "metadata": {},
     "output_type": "execute_result"
    },
    {
     "data": {
      "image/png": "[encoded data removed]",
      "text/plain": [
       "<Figure size 432x288 with 1 Axes>"
      ]
     },
     "metadata": {
      "needs_background": "light"
     },
     "output_type": "display_data"
    }
   ],
   "source": [
    "\n",
    "cond = df[\"event_type\"] == \"cart\"\n",
    "brand_gb_cart = df[cond].groupby(\"brand\")\n",
    "count_brand_cart = brand_gb_cart[\"brand\"].count().sort_values(ascending=False)\n",
    "\n",
    "count_brand_cart[:10].plot(kind=\"barh\")"
   ]
  },
  {
   "cell_type": "code",
   "execution_count": 78,
   "id": "b651e138-ff26-4474-bd6d-ec3df57a11b0",
   "metadata": {},
   "outputs": [
    {
     "data": {
      "text/plain": [
       "pandas.core.frame.DataFrame"
      ]
     },
     "execution_count": 78,
     "metadata": {},
     "output_type": "execute_result"
    }
   ],
   "source": [
    "brand_stats = pd.merge(count_brand_cart, count_brand_view, right_index=True, left_index= True)\n",
    "brand_stats.columns=[\"cart\", \"view\"]\n",
    "# brand_stats.head()\n",
    "type(brand_stats)"
   ]
  },
  {
   "cell_type": "code",
   "execution_count": 82,
   "id": "6b068406-1516-42f1-aa46-d04221a402f1",
   "metadata": {},
   "outputs": [
    {
     "data": {
      "text/html": [
       "<div>\n",
       "<style scoped>\n",
       "    .dataframe tbody tr th:only-of-type {\n",
       "        vertical-align: middle;\n",
       "    }\n",
       "\n",
       "    .dataframe tbody tr th {\n",
       "        vertical-align: top;\n",
       "    }\n",
       "\n",
       "    .dataframe thead th {\n",
       "        text-align: right;\n",
       "    }\n",
       "</style>\n",
       "<table border=\"1\" class=\"dataframe\">\n",
       "  <thead>\n",
       "    <tr style=\"text-align: right;\">\n",
       "      <th></th>\n",
       "      <th>cart</th>\n",
       "      <th>view</th>\n",
       "      <th>purchase</th>\n",
       "    </tr>\n",
       "    <tr>\n",
       "      <th>brand</th>\n",
       "      <th></th>\n",
       "      <th></th>\n",
       "      <th></th>\n",
       "    </tr>\n",
       "  </thead>\n",
       "  <tbody>\n",
       "    <tr>\n",
       "      <th>samsung</th>\n",
       "      <td>5001</td>\n",
       "      <td>114400</td>\n",
       "      <td>4222.0</td>\n",
       "    </tr>\n",
       "    <tr>\n",
       "      <th>apple</th>\n",
       "      <td>3862</td>\n",
       "      <td>91209</td>\n",
       "      <td>3439.0</td>\n",
       "    </tr>\n",
       "    <tr>\n",
       "      <th>xiaomi</th>\n",
       "      <td>1427</td>\n",
       "      <td>62232</td>\n",
       "      <td>1062.0</td>\n",
       "    </tr>\n",
       "    <tr>\n",
       "      <th>huawei</th>\n",
       "      <td>691</td>\n",
       "      <td>22395</td>\n",
       "      <td>484.0</td>\n",
       "    </tr>\n",
       "    <tr>\n",
       "      <th>oppo</th>\n",
       "      <td>366</td>\n",
       "      <td>13163</td>\n",
       "      <td>296.0</td>\n",
       "    </tr>\n",
       "  </tbody>\n",
       "</table>\n",
       "</div>"
      ],
      "text/plain": [
       "         cart    view  purchase\n",
       "brand                          \n",
       "samsung  5001  114400    4222.0\n",
       "apple    3862   91209    3439.0\n",
       "xiaomi   1427   62232    1062.0\n",
       "huawei    691   22395     484.0\n",
       "oppo      366   13163     296.0"
      ]
     },
     "execution_count": 82,
     "metadata": {},
     "output_type": "execute_result"
    }
   ],
   "source": [
    "brand_stats = brand_stats.assign(purchase=count_brand_purchase)\n",
    "brand_stats.head()"
   ]
  },
  {
   "cell_type": "code",
   "execution_count": 84,
   "id": "4184a1dd-69d6-48a8-a36f-2add5aa7384c",
   "metadata": {},
   "outputs": [
    {
     "data": {
      "text/plain": [
       "<seaborn.axisgrid.PairGrid at 0x7fe4fe0c2bb0>"
      ]
     },
     "execution_count": 84,
     "metadata": {},
     "output_type": "execute_result"
    },
    {
     "data": {
      "image/png": "[encoded data removed]",
      "text/plain": [
       "<Figure size 540x540 with 12 Axes>"
      ]
     },
     "metadata": {
      "needs_background": "light"
     },
     "output_type": "display_data"
    }
   ],
   "source": [
    "sns.pairplot(brand_stats)"
   ]
  },
  {
   "cell_type": "code",
   "execution_count": 85,
   "id": "4a1a837e-164a-4f8f-82dd-cf671747fb1c",
   "metadata": {},
   "outputs": [
    {
     "data": {
      "text/plain": [
       "<AxesSubplot:>"
      ]
     },
     "execution_count": 85,
     "metadata": {},
     "output_type": "execute_result"
    },
    {
     "data": {
      "image/png": "[encoded data removed]",
      "text/plain": [
       "<Figure size 432x288 with 2 Axes>"
      ]
     },
     "metadata": {
      "needs_background": "light"
     },
     "output_type": "display_data"
    }
   ],
   "source": [
    "sns.heatmap(brand_stats.corr(), annot=True, cmap=\"coolwarm\")"
   ]
  },
  {
   "cell_type": "markdown",
   "id": "d50ebb3c-d298-4120-9b62-fd2d7dd51c29",
   "metadata": {
    "tags": []
   },
   "source": [
    "### Visualization in sales \n",
    "\n",
    "\n",
    "\n",
    "- Most expensive categories\n",
    "- Most sold categories\n",
    "- Most expensive brands\n",
    "- Most sold brands\n",
    "- correlation expensive and sold\n",
    "- most view brands\n",
    "\n"
   ]
  },
  {
   "cell_type": "code",
   "execution_count": null,
   "id": "59419207-09c6-42d9-bb33-65e61306a437",
   "metadata": {},
   "outputs": [],
   "source": []
  },
  {
   "cell_type": "code",
   "execution_count": 19,
   "id": "23f6dc66-288a-4383-99d0-61d9f4a2b054",
   "metadata": {
    "collapsed": true,
    "jupyter": {
     "outputs_hidden": true
    },
    "tags": []
   },
   "outputs": [
    {
     "data": {
      "text/plain": [
       "product_id\n",
       "1000978      11\n",
       "1001588      47\n",
       "1002098     151\n",
       "1002099      97\n",
       "1002100     148\n",
       "           ... \n",
       "60500002     27\n",
       "60500003      1\n",
       "60500004      2\n",
       "60500006      4\n",
       "60500010      1\n",
       "Length: 26921, dtype: int64"
      ]
     },
     "execution_count": 19,
     "metadata": {},
     "output_type": "execute_result"
    }
   ],
   "source": [
    "product_gb = df.groupby(\"product_id\")\n",
    "product_gb.size()"
   ]
  },
  {
   "cell_type": "code",
   "execution_count": null,
   "id": "371abd3f-f3ed-4456-b4e6-e5708979741e",
   "metadata": {},
   "outputs": [],
   "source": [
    "product_gb."
   ]
  }
 ],
 "metadata": {
  "kernelspec": {
   "display_name": "Python 3 (ipykernel)",
   "language": "python",
   "name": "python3"
  },
  "language_info": {
   "codemirror_mode": {
    "name": "ipython",
    "version": 3
   },
   "file_extension": ".py",
   "mimetype": "text/x-python",
   "name": "python",
   "nbconvert_exporter": "python",
   "pygments_lexer": "ipython3",
   "version": "3.9.12"
  }
 },
 "nbformat": 4,
 "nbformat_minor": 5
}
